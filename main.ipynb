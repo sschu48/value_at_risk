{
 "cells": [
  {
   "cell_type": "markdown",
   "metadata": {},
   "source": [
    "Tutorial by Py Quant\n",
    "Sean Schumacher\n",
    "Practicing using Python to improve portfolio performance by monitoring Value at Risk"
   ]
  },
  {
   "cell_type": "code",
   "execution_count": 1,
   "metadata": {},
   "outputs": [],
   "source": [
    "# import libraries\n",
    "\n",
    "%matplotlib inline\n",
    "\n",
    "import pandas as pd\n",
    "import numpy as np\n",
    "from scipy.stats import norm\n",
    "import matplotlib.pyplot as plt\n",
    "\n",
    "import yfinance as yf"
   ]
  },
  {
   "cell_type": "code",
   "execution_count": 2,
   "metadata": {},
   "outputs": [],
   "source": [
    "# define the variables\n",
    "\n",
    "# portfolio of stocks\n",
    "tickers = ['AAPL', 'TSLA', 'CHV']\n",
    "\n",
    "# weights of stocks\n",
    "weights = np.array([0.25, 0.4, 0.35])\n",
    "\n",
    "# size of portfolio\n",
    "portfolio_value = 1000\n",
    "\n",
    "# confidence interval (95%)\n",
    "confidence = 0.05\n",
    "\n",
    "# download ticker data\n",
    "data = yf.download(tickers, start='2018-01-01', end='2021-12-31')['Close']"
   ]
  }
 ],
 "metadata": {
  "kernelspec": {
   "display_name": "Python 3.9.12 ('data-sci')",
   "language": "python",
   "name": "python3"
  },
  "language_info": {
   "codemirror_mode": {
    "name": "ipython",
    "version": 3
   },
   "file_extension": ".py",
   "mimetype": "text/x-python",
   "name": "python",
   "nbconvert_exporter": "python",
   "pygments_lexer": "ipython3",
   "version": "3.9.12"
  },
  "orig_nbformat": 4,
  "vscode": {
   "interpreter": {
    "hash": "2e9a6e4c4b2dd69d78b6cdc17f5f837aad45bff928908a856fd84d0abd7fcfff"
   }
  }
 },
 "nbformat": 4,
 "nbformat_minor": 2
}
